{
 "cells": [
  {
   "cell_type": "code",
   "execution_count": 18,
   "metadata": {},
   "outputs": [
    {
     "name": "stdout",
     "output_type": "stream",
     "text": [
      "p r 6 2 8\n",
      "r p 0 1 1\n",
      "s s 3 3 6\n",
      "Total Score =  15\n"
     ]
    }
   ],
   "source": [
    "import numpy as np\n",
    "\n",
    "def rps(me = \"\", opponent = \"\"):\n",
    "    # draw\n",
    "    if me == opponent:\n",
    "        return 3\n",
    "    if (me == \"r\") and (opponent == \"p\"):\n",
    "        return 0\n",
    "    if (me == \"r\") and (opponent == \"s\"):\n",
    "        return 6\n",
    "    if (me == \"p\") and (opponent == \"s\"):\n",
    "        return 0\n",
    "    if (me == \"p\") and (opponent == \"r\"):\n",
    "        return 6\n",
    "    if (me == \"s\") and (opponent == \"r\"):\n",
    "        return 0\n",
    "    if (me == \"s\") and (opponent == \"p\"):\n",
    "        return 6\n",
    "\n",
    "opponent_map = {\"A\": \"r\", \"B\": \"p\", \"C\": \"s\"}\n",
    "me_map = {\"X\": \"r\", \"Y\": \"p\", \"Z\": \"s\"}\n",
    "points_map = {\"r\": 1, \"p\": 2, \"s\": 3}\n",
    "\n",
    "fn = \"02-test.txt\"\n",
    "\n",
    "with open(fn) as df:\n",
    "    lines = df.readlines()\n",
    "    rounds = []\n",
    "    for l in lines:\n",
    "        opponent_unmapped, me_unmapped = l.split()\n",
    "        opponent = opponent_map[opponent_unmapped]\n",
    "        me = me_map[me_unmapped]\n",
    "\n",
    "        game_points = rps(me, opponent)\n",
    "        choice_points = points_map[me]\n",
    "\n",
    "        round_points = game_points + choice_points\n",
    "                \n",
    "        print(me, opponent, game_points, choice_points, round_points)\n",
    "\n",
    "        rounds.append(round_points)\n",
    "\n",
    "    total_score = np.sum(rounds)\n",
    "\n",
    "    print(\"Total Score = \", total_score)\n"
   ]
  },
  {
   "cell_type": "code",
   "execution_count": 22,
   "metadata": {},
   "outputs": [
    {
     "name": "stdout",
     "output_type": "stream",
     "text": [
      "Total Score =  14652\n"
     ]
    }
   ],
   "source": [
    "results_ordered = [\"r\", \"p\", \"s\"]\n",
    "\n",
    "def choice_map(opponent, result):\n",
    "    # print(opponent)\n",
    "    if result == 'Y': # draw\n",
    "        return opponent\n",
    "    if result == 'X': # lose\n",
    "        return results_ordered[(results_ordered.index(opponent) - 1)%3]\n",
    "    if result == 'Z': # win\n",
    "        return results_ordered[(results_ordered.index(opponent) + 1)%3]\n",
    "\n",
    "\n",
    "opponent_map = {\"A\": \"r\", \"B\": \"p\", \"C\": \"s\"}\n",
    "me_map = {\"X\": \"r\", \"Y\": \"p\", \"Z\": \"s\"}\n",
    "points_map = {\"r\": 1, \"p\": 2, \"s\": 3}\n",
    "\n",
    "fn = \"02-input.txt\"\n",
    "\n",
    "with open(fn) as df:\n",
    "    lines = df.readlines()\n",
    "    rounds = []\n",
    "    for l in lines:\n",
    "        opponent_unmapped, result = l.split()\n",
    "        opponent = opponent_map[opponent_unmapped]\n",
    "\n",
    "\n",
    "        me = choice_map(opponent, result)\n",
    "\n",
    "        game_points = rps(me, opponent)\n",
    "        choice_points = points_map[me]\n",
    "\n",
    "        round_points = game_points + choice_points\n",
    "        \n",
    "        # print(me, opponent, game_points, choice_points, round_points)\n",
    "        \n",
    "        rounds.append(round_points)\n",
    "\n",
    "    total_score = np.sum(rounds)\n",
    "\n",
    "    print(\"Total Score = \", total_score)\n"
   ]
  },
  {
   "cell_type": "code",
   "execution_count": 11,
   "metadata": {},
   "outputs": [
    {
     "name": "stdout",
     "output_type": "stream",
     "text": [
      "2\n"
     ]
    }
   ],
   "source": [
    "print(results_ordered.index('s'))"
   ]
  },
  {
   "cell_type": "code",
   "execution_count": 16,
   "metadata": {},
   "outputs": [
    {
     "data": {
      "text/plain": [
       "'s'"
      ]
     },
     "execution_count": 16,
     "metadata": {},
     "output_type": "execute_result"
    }
   ],
   "source": [
    "results_ordered[-1%3]"
   ]
  },
  {
   "cell_type": "code",
   "execution_count": null,
   "metadata": {},
   "outputs": [],
   "source": []
  }
 ],
 "metadata": {
  "kernelspec": {
   "display_name": "Python 3.9.0 64-bit ('3.9.0')",
   "language": "python",
   "name": "python3"
  },
  "language_info": {
   "codemirror_mode": {
    "name": "ipython",
    "version": 3
   },
   "file_extension": ".py",
   "mimetype": "text/x-python",
   "name": "python",
   "nbconvert_exporter": "python",
   "pygments_lexer": "ipython3",
   "version": "3.9.0"
  },
  "orig_nbformat": 4,
  "vscode": {
   "interpreter": {
    "hash": "e25bd7ffffab76b5c45949ea8f9d97caad9838d6917f06419c82992cce601ca2"
   }
  }
 },
 "nbformat": 4,
 "nbformat_minor": 2
}
