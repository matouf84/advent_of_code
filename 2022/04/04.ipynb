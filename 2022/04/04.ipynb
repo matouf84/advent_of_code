{
 "cells": [
  {
   "cell_type": "code",
   "execution_count": 4,
   "metadata": {},
   "outputs": [
    {
     "name": "stdout",
     "output_type": "stream",
     "text": [
      "Complete Overlap Counter = 485\n"
     ]
    }
   ],
   "source": [
    "fn = \"04-input.txt\"\n",
    "\n",
    "with open(fn) as df:\n",
    "    lines = df.readlines()\n",
    "    \n",
    "    complete_overlap_counter = 0\n",
    "    for l in lines:\n",
    "        workers = l.split(',')\n",
    "        sets = [set(range(int(w.split('-')[0]), int(w.split('-')[1])+1)) for w in workers]\n",
    "        i = sets[0].intersection(sets[1])\n",
    "        if any([s == i for s in sets]):\n",
    "            complete_overlap_counter += 1\n",
    "    \n",
    "    print(\"Complete Overlap Counter =\", complete_overlap_counter)\n"
   ]
  },
  {
   "cell_type": "code",
   "execution_count": 6,
   "metadata": {},
   "outputs": [
    {
     "name": "stdout",
     "output_type": "stream",
     "text": [
      "Overlap Counter = 857\n"
     ]
    }
   ],
   "source": [
    "fn = \"04-input.txt\"\n",
    "\n",
    "with open(fn) as df:\n",
    "    lines = df.readlines()\n",
    "    \n",
    "    overlap_counter = 0\n",
    "    for l in lines:\n",
    "        workers = l.split(',')\n",
    "        sets = [set(range(int(w.split('-')[0]), int(w.split('-')[1])+1)) for w in workers]\n",
    "        i = sets[0].intersection(sets[1])\n",
    "        #if any([s == i for s in sets]):\n",
    "        if len(i) > 0:\n",
    "            overlap_counter += 1\n",
    "    \n",
    "    print(\"Overlap Counter =\", overlap_counter)\n"
   ]
  },
  {
   "cell_type": "code",
   "execution_count": null,
   "metadata": {},
   "outputs": [],
   "source": []
  }
 ],
 "metadata": {
  "kernelspec": {
   "display_name": "Python 3.9.0 64-bit ('3.9.0')",
   "language": "python",
   "name": "python3"
  },
  "language_info": {
   "codemirror_mode": {
    "name": "ipython",
    "version": 3
   },
   "file_extension": ".py",
   "mimetype": "text/x-python",
   "name": "python",
   "nbconvert_exporter": "python",
   "pygments_lexer": "ipython3",
   "version": "3.9.0"
  },
  "orig_nbformat": 4,
  "vscode": {
   "interpreter": {
    "hash": "e25bd7ffffab76b5c45949ea8f9d97caad9838d6917f06419c82992cce601ca2"
   }
  }
 },
 "nbformat": 4,
 "nbformat_minor": 2
}
