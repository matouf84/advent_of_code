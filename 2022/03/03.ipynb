{
 "cells": [
  {
   "cell_type": "code",
   "execution_count": 13,
   "metadata": {},
   "outputs": [
    {
     "name": "stdout",
     "output_type": "stream",
     "text": [
      "Sum Priorities = 8072\n"
     ]
    }
   ],
   "source": [
    "\n",
    "def priority(it):\n",
    "    if (ord(it) >= ord(\"a\")) and (ord(it) <= ord(\"z\")):\n",
    "        return (1 + ord(it) - ord(\"a\"))\n",
    "    if (ord(it) >= ord(\"A\")) and (ord(it) <= ord(\"Z\")):\n",
    "        return (27 + ord(it) - ord(\"A\"))\n",
    "\n",
    "fn = \"03-input.txt\"\n",
    "with open(fn) as df:\n",
    "    lines = df.readlines()\n",
    "    sum_priorities = 0\n",
    "    for l in lines:\n",
    "        line = l.strip()\n",
    "        length = len(line)\n",
    "        \n",
    "        compartment_1 = set(line[:length//2])\n",
    "        compartment_2 = set(line[length//2:])\n",
    "\n",
    "        in_both = compartment_1.intersection(compartment_2)\n",
    "        \n",
    "        current_priority = sum({priority(elem) for elem in in_both})\n",
    "        sum_priorities += current_priority\n",
    "\n",
    "    print(\"Sum Priorities =\", sum_priorities)\n",
    "\n"
   ]
  },
  {
   "cell_type": "code",
   "execution_count": 15,
   "metadata": {},
   "outputs": [
    {
     "name": "stdout",
     "output_type": "stream",
     "text": [
      "Sum Priorities = 2567\n"
     ]
    }
   ],
   "source": [
    "import chunk\n",
    "\n",
    "\n",
    "fn = \"03-input.txt\"\n",
    "with open(fn) as df:\n",
    "    lines = df.readlines()\n",
    "    sum_priorities = 0\n",
    "\n",
    "    num_lines = len(lines)\n",
    "\n",
    "    chunks = [lines[x:x+3] for x in range(0, num_lines, 3)]\n",
    "\n",
    "    for c in chunks:\n",
    "        rucksacks = [set(l.strip()) for l in c]\n",
    "        \n",
    "        i_12 = rucksacks[0].intersection(rucksacks[1])\n",
    "        i_123 = rucksacks[2].intersection(i_12)\n",
    "        \n",
    "        current_priority = sum({priority(elem) for elem in i_123})\n",
    "        sum_priorities += current_priority\n",
    "\n",
    "    print(\"Sum Priorities =\", sum_priorities)\n",
    "\n"
   ]
  },
  {
   "cell_type": "code",
   "execution_count": 3,
   "metadata": {},
   "outputs": [
    {
     "data": {
      "text/plain": [
       "90"
      ]
     },
     "execution_count": 3,
     "metadata": {},
     "output_type": "execute_result"
    }
   ],
   "source": []
  },
  {
   "cell_type": "code",
   "execution_count": 4,
   "metadata": {},
   "outputs": [
    {
     "data": {
      "text/plain": [
       "122"
      ]
     },
     "execution_count": 4,
     "metadata": {},
     "output_type": "execute_result"
    }
   ],
   "source": []
  },
  {
   "cell_type": "code",
   "execution_count": null,
   "metadata": {},
   "outputs": [],
   "source": []
  }
 ],
 "metadata": {
  "kernelspec": {
   "display_name": "Python 3.9.0 64-bit ('3.9.0')",
   "language": "python",
   "name": "python3"
  },
  "language_info": {
   "codemirror_mode": {
    "name": "ipython",
    "version": 3
   },
   "file_extension": ".py",
   "mimetype": "text/x-python",
   "name": "python",
   "nbconvert_exporter": "python",
   "pygments_lexer": "ipython3",
   "version": "3.9.0"
  },
  "orig_nbformat": 4,
  "vscode": {
   "interpreter": {
    "hash": "e25bd7ffffab76b5c45949ea8f9d97caad9838d6917f06419c82992cce601ca2"
   }
  }
 },
 "nbformat": 4,
 "nbformat_minor": 2
}
