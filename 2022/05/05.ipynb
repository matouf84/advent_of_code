{
 "cells": [
  {
   "cell_type": "code",
   "execution_count": 19,
   "metadata": {},
   "outputs": [
    {
     "name": "stdout",
     "output_type": "stream",
     "text": [
      "T V      W  V C P D    B  J P R N B   Z  W Q D M T  L T  N J H B P T P L  R D F P R P R S G M W J R V B J C S S B B F H C B N L LJSVLTWQM\n"
     ]
    }
   ],
   "source": [
    "# Test block\n",
    "fn = \"05-test.txt\"\n",
    "il = 4\n",
    "\n",
    "# Puzzle block\n",
    "fn = \"05-input.txt\"\n",
    "il = 9\n",
    "\n",
    "def print_data(data):\n",
    "    for k, v in data.items():\n",
    "        print( k, ':', v)\n",
    "\n",
    "with open(fn) as df:\n",
    "    lines = df.readlines()\n",
    "\n",
    "    stack_ids = lines[il - 1].split()\n",
    "    num_stacks = len(stack_ids)\n",
    "\n",
    "    data = {}\n",
    "    for stack_id in stack_ids:\n",
    "        data[stack_id] = \"\"\n",
    "    \n",
    "    for step, line in enumerate(lines[:il - 1]):\n",
    "        # print('\\n', 'Step:', step)\n",
    "        for i in range(len(stack_ids)):\n",
    "            line_content = line[i*4: i*4 + 3][1].strip()\n",
    "            # print(line_content, end=\" \")\n",
    "            data[stack_ids[i]] = line_content + data[stack_ids[i]]\n",
    "        # print('')\n",
    "        # print_data(data)\n",
    "    \n",
    "    for step, line in enumerate(lines[il + 1:]):\n",
    "        # print(\"Step:\", step)\n",
    "        # print_data(data)\n",
    "        commands = line.split()\n",
    "        amount = int(commands[1])\n",
    "        from_stack = commands[3]\n",
    "        to_stack = commands[5]\n",
    "        for c in range(amount):\n",
    "            data[to_stack] += data[from_stack][-1]\n",
    "            data[from_stack] = data[from_stack][:-1]\n",
    "\n",
    "\n",
    "    # print(\"End\")\n",
    "    # print_data(data)\n",
    "    \n",
    "    result = \"\"\n",
    "    for stack in stack_ids:\n",
    "        result += data[stack][-1:]\n",
    "    \n",
    "    print(result)"
   ]
  },
  {
   "cell_type": "code",
   "execution_count": 23,
   "metadata": {},
   "outputs": [
    {
     "name": "stdout",
     "output_type": "stream",
     "text": [
      "BRQWDBBJM\n"
     ]
    }
   ],
   "source": [
    "# Test block\n",
    "fn = \"05-test.txt\"\n",
    "il = 4\n",
    "\n",
    "# Puzzle block\n",
    "fn = \"05-input.txt\"\n",
    "il = 9\n",
    "\n",
    "\n",
    "with open(fn) as df:\n",
    "    lines = df.readlines()\n",
    "\n",
    "    stack_ids = lines[il - 1].split()\n",
    "    num_stacks = len(stack_ids)\n",
    "\n",
    "    data = {}\n",
    "    for stack_id in stack_ids:\n",
    "        data[stack_id] = \"\"\n",
    "    \n",
    "    for step, line in enumerate(lines[:il - 1]):\n",
    "        # print('\\n', 'Step:', step)\n",
    "        for i in range(len(stack_ids)):\n",
    "            line_content = line[i*4: i*4 + 3][1].strip()\n",
    "            # print(line_content, end=\" \")\n",
    "            data[stack_ids[i]] = line_content + data[stack_ids[i]]\n",
    "        # print('')\n",
    "        # print_data(data)\n",
    "    \n",
    "    for step, line in enumerate(lines[il + 1:]):\n",
    "        # print(\"Step:\", step)\n",
    "        # print_data(data)\n",
    "        commands = line.split()\n",
    "        amount = int(commands[1])\n",
    "        from_stack = commands[3]\n",
    "        to_stack = commands[5]\n",
    "        data[to_stack] += data[from_stack][-amount:]\n",
    "        data[from_stack] = data[from_stack][:-amount]\n",
    "\n",
    "\n",
    "    # print(\"End\")\n",
    "    # print_data(data)\n",
    "    \n",
    "    result = \"\"\n",
    "    for stack in stack_ids:\n",
    "        result += data[stack][-1:]\n",
    "\n",
    "    print(result)"
   ]
  },
  {
   "cell_type": "code",
   "execution_count": 4,
   "metadata": {},
   "outputs": [
    {
     "name": "stdout",
     "output_type": "stream",
     "text": [
      "ABDCEFHLK\n",
      "HLK\n",
      "ABDCEF\n"
     ]
    }
   ],
   "source": []
  },
  {
   "cell_type": "code",
   "execution_count": null,
   "metadata": {},
   "outputs": [],
   "source": []
  }
 ],
 "metadata": {
  "kernelspec": {
   "display_name": "Python 3.9.0 64-bit ('3.9.0')",
   "language": "python",
   "name": "python3"
  },
  "language_info": {
   "codemirror_mode": {
    "name": "ipython",
    "version": 3
   },
   "file_extension": ".py",
   "mimetype": "text/x-python",
   "name": "python",
   "nbconvert_exporter": "python",
   "pygments_lexer": "ipython3",
   "version": "3.9.0"
  },
  "orig_nbformat": 4,
  "vscode": {
   "interpreter": {
    "hash": "e25bd7ffffab76b5c45949ea8f9d97caad9838d6917f06419c82992cce601ca2"
   }
  }
 },
 "nbformat": 4,
 "nbformat_minor": 2
}
