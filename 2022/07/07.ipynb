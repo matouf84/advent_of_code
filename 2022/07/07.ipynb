{
 "cells": [
  {
   "cell_type": "code",
   "execution_count": 31,
   "metadata": {},
   "outputs": [
    {
     "name": "stdout",
     "output_type": "stream",
     "text": [
      "2061777\n"
     ]
    }
   ],
   "source": [
    "# Test block\n",
    "\n",
    "# fn = \"07-test.txt\"\n",
    "fn = \"07-input.txt\"\n",
    "\n",
    "data = {}\n",
    "\n",
    "limit = 100000\n",
    "\n",
    "total = 0\n",
    "\n",
    "data_path = []\n",
    "new_path = \":\".join(data_path)\n",
    "\n",
    "with open(fn) as df:\n",
    "    lines = df.readlines()\n",
    "\n",
    "    for line in lines:\n",
    "        line = line.strip()\n",
    "        # print(line)\n",
    "        if line.startswith('$ '): # Command\n",
    "            l = line.strip().split()\n",
    "            if len(l) == 3: # we have a `cd` command\n",
    "                target = l[2]\n",
    "\n",
    "                if target == '..':\n",
    "                    data_path = data_path[:-1]\n",
    "                    continue\n",
    "                    # new_path = ':'.join(data_path)\n",
    "                    # data[new_path][\"size\"] = sum(c[\"size\"] for c in data[new_path][\"content\"])\n",
    "\n",
    "\n",
    "                data_path.append(target)\n",
    "                new_path = ':'.join(data_path)\n",
    "\n",
    "\n",
    "                data[new_path] = {\"size\": 0, \"content\": [], \"directory\": True}\n",
    "        else: # Output\n",
    "            # print(\"DATA PATH\", data_path)\n",
    "            indicator, name = line.strip().split()\n",
    "            if indicator != \"dir\":\n",
    "                size = int(indicator)\n",
    "                for p in [data_path[:i] for i in range(1, len(data_path)+1)]:\n",
    "                    np = ':'.join(p)\n",
    "                    data[np][\"size\"] += size\n",
    "                data[new_path][\"content\"].append({\"size\": size, \"directory\": False})\n",
    "                # print(\"   \", data[new_path][\"size\"])\n",
    "                \n",
    "\n",
    "    for k, v in data.items():\n",
    "        # print(k, v[\"size\"])\n",
    "        if v[\"size\"] <= limit:\n",
    "            total += v[\"size\"]\n",
    "\n",
    "    print(total)"
   ]
  },
  {
   "cell_type": "code",
   "execution_count": 32,
   "metadata": {},
   "outputs": [
    {
     "name": "stdout",
     "output_type": "stream",
     "text": [
      "/:phpmmtvc:bqpslnv:vtnptsl 4473403\n"
     ]
    }
   ],
   "source": [
    "available_total = 70000000\n",
    "required = 30000000\n",
    "\n",
    "used_root = data['/']['size']\n",
    "\n",
    "available_now = available_total - used_root\n",
    "still_required = required - available_now\n",
    "\n",
    "\n",
    "found_size = available_total\n",
    "found_path = ''\n",
    "\n",
    "for k, v in data.items():\n",
    "    if v[\"size\"] >= found_size:\n",
    "        continue\n",
    "    if v[\"size\"] < still_required:\n",
    "        continue\n",
    "    found_size = v[\"size\"]\n",
    "    found_path = k\n",
    "\n",
    "print(found_path, found_size)"
   ]
  },
  {
   "cell_type": "code",
   "execution_count": null,
   "metadata": {},
   "outputs": [],
   "source": []
  }
 ],
 "metadata": {
  "kernelspec": {
   "display_name": "Python 3.9.0 64-bit ('3.9.0')",
   "language": "python",
   "name": "python3"
  },
  "language_info": {
   "codemirror_mode": {
    "name": "ipython",
    "version": 3
   },
   "file_extension": ".py",
   "mimetype": "text/x-python",
   "name": "python",
   "nbconvert_exporter": "python",
   "pygments_lexer": "ipython3",
   "version": "3.9.0"
  },
  "orig_nbformat": 4,
  "vscode": {
   "interpreter": {
    "hash": "e25bd7ffffab76b5c45949ea8f9d97caad9838d6917f06419c82992cce601ca2"
   }
  }
 },
 "nbformat": 4,
 "nbformat_minor": 2
}
