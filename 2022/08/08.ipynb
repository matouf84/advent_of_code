{
 "cells": [
  {
   "cell_type": "code",
   "execution_count": 11,
   "metadata": {},
   "outputs": [
    {
     "name": "stdout",
     "output_type": "stream",
     "text": [
      "1703\n"
     ]
    }
   ],
   "source": [
    "\n",
    "\n",
    "# Test input\n",
    "# fn = \"08-test.txt\"\n",
    "\n",
    "# Puzzle input\n",
    "fn = \"08-input.txt\"\n",
    "\n",
    "content = []\n",
    "\n",
    "visible_trees = {}\n",
    "\n",
    "line_length = 0\n",
    "col_length = 0\n",
    "\n",
    "with open(fn) as df:\n",
    "    lines = df.readlines()\n",
    "    col_length = len(lines)\n",
    "    for i, line in enumerate(lines):\n",
    "        line = line.strip()\n",
    "        current_line = [int(c) for c in line]\n",
    "        content.append(current_line)\n",
    "        if line_length == 0:\n",
    "            line_length = len(current_line)\n",
    "\n",
    "\n",
    "        # Rows\n",
    "        max_f = -1\n",
    "        max_b = -1\n",
    "\n",
    "        for ii, val in enumerate(current_line):\n",
    "            id = (i, ii)\n",
    "            if val > max_f:\n",
    "                max_f = val\n",
    "                if id not in visible_trees:\n",
    "                    visible_trees[id] = []\n",
    "                visible_trees[id].append('l')\n",
    "                \n",
    "        \n",
    "        for ii, val in enumerate(current_line[::-1]):\n",
    "            id = (i, line_length - (ii + 1))\n",
    "            if val > max_b:\n",
    "                max_b = val\n",
    "                if id not in visible_trees:\n",
    "                    visible_trees[id] = []\n",
    "                visible_trees[id].append('r')\n",
    "\n",
    "    for i in range(line_length):\n",
    "        current_col = [c[i] for c in content]\n",
    "        \n",
    "        # Columns\n",
    "        max_f = -1\n",
    "        max_b = -1\n",
    "        for ii, val in enumerate(current_col):\n",
    "            id = (ii, i)\n",
    "            if val > max_f:\n",
    "                max_f = val\n",
    "                if id not in visible_trees:\n",
    "                    visible_trees[id] = []\n",
    "                visible_trees[id].append('t')\n",
    "        \n",
    "        for ii, val in enumerate(current_col[::-1]):\n",
    "            id = (col_length - (ii + 1), i)\n",
    "            if val > max_b:\n",
    "                max_b = val\n",
    "                if id not in visible_trees:\n",
    "                    visible_trees[id] = []\n",
    "                visible_trees[id].append('b')\n",
    "\n",
    "\n",
    "    print(len(visible_trees))\n",
    "\n",
    "    # the_map = [[\" \" for j in range(line_length)] for l in range(len(lines))]\n",
    "\n",
    "    # for (i, j) in visible_trees:\n",
    "    #     the_map[i][j] = \"x\"\n",
    "    \n",
    "    # for l in the_map:\n",
    "    #     print (\"\".join(l))\n",
    "    \n",
    "    # for i, (k, v) in enumerate(visible_trees.items()):\n",
    "    #     print('{num:4d}:'.format(num=i+1), k,':', ''.join(v))"
   ]
  },
  {
   "cell_type": "code",
   "execution_count": 12,
   "metadata": {},
   "outputs": [
    {
     "name": "stdout",
     "output_type": "stream",
     "text": [
      "496650\n"
     ]
    }
   ],
   "source": [
    "max_score = 0\n",
    "\n",
    "for i, line in enumerate(content):\n",
    "    for ii, val in enumerate(line):\n",
    "        s_up = i\n",
    "        s_down = col_length - (i+1)\n",
    "        s_left = ii\n",
    "        s_right = line_length - (ii+1)\n",
    "\n",
    "        c_up = 0\n",
    "        c_down = 0\n",
    "        c_left = 0\n",
    "        c_right = 0\n",
    "\n",
    "        while s_up > 0:\n",
    "            c_up += 1\n",
    "            if content[i-c_up][ii] >= val:\n",
    "                break\n",
    "            s_up -= 1\n",
    "        \n",
    "        while s_down > 0:\n",
    "            c_down += 1\n",
    "            if content[i+c_down][ii] >= val:\n",
    "                break\n",
    "            s_down -= 1\n",
    "        \n",
    "        while s_left > 0:\n",
    "            c_left += 1\n",
    "            if line[ii-c_left] >= val:\n",
    "                break\n",
    "            s_left -= 1\n",
    "        \n",
    "        while s_right > 0:\n",
    "            c_right += 1\n",
    "            if line[ii+c_right] >= val:\n",
    "                break\n",
    "            s_right -= 1\n",
    "        \n",
    "        current_score = c_up * c_down * c_left * c_right\n",
    "        if current_score > max_score:\n",
    "            # print(i, ii, ':', val, ':', current_score, ':', c_up, c_left, c_right, c_down)\n",
    "            max_score = current_score\n",
    "\n",
    "print(max_score)\n"
   ]
  },
  {
   "cell_type": "code",
   "execution_count": null,
   "metadata": {},
   "outputs": [],
   "source": []
  }
 ],
 "metadata": {
  "kernelspec": {
   "display_name": "Python 3.9.0 64-bit ('3.9.0')",
   "language": "python",
   "name": "python3"
  },
  "language_info": {
   "codemirror_mode": {
    "name": "ipython",
    "version": 3
   },
   "file_extension": ".py",
   "mimetype": "text/x-python",
   "name": "python",
   "nbconvert_exporter": "python",
   "pygments_lexer": "ipython3",
   "version": "3.9.0"
  },
  "orig_nbformat": 4,
  "vscode": {
   "interpreter": {
    "hash": "e25bd7ffffab76b5c45949ea8f9d97caad9838d6917f06419c82992cce601ca2"
   }
  }
 },
 "nbformat": 4,
 "nbformat_minor": 2
}
